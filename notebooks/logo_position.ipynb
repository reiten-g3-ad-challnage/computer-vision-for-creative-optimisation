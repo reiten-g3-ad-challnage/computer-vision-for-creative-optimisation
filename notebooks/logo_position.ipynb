{
 "cells": [
  {
   "cell_type": "code",
   "execution_count": 1,
   "metadata": {},
   "outputs": [],
   "source": [
    "import os \n",
    "import pandas as pd\n",
    "import os\n",
    "import glob\n",
    "import shutil\n",
    "import cv2 as cv\n",
    "import argparse\n",
    "import cv2\n",
    "from matplotlib import pyplot as plt"
   ]
  },
  {
   "cell_type": "code",
   "execution_count": 2,
   "metadata": {},
   "outputs": [],
   "source": [
    "def  logo_detec(image,template):\n",
    "    imageGray = cv2.cvtColor(image, cv2.COLOR_BGR2GRAY)\n",
    "    templateGray = cv2.cvtColor(template, cv2.COLOR_BGR2GRAY)\n",
    "    result = cv2.matchTemplate(imageGray, templateGray,\n",
    "        cv2.TM_CCOEFF_NORMED)\n",
    "    (minVal, maxVal, minLoc, maxLoc) = cv2.minMaxLoc(result)\n",
    "    (startX, startY) = maxLoc\n",
    "    endX = startX + template.shape[1]\n",
    "    endY = startY + template.shape[0]\n",
    "    return startX,startY,endX,endY"
   ]
  },
  {
   "cell_type": "code",
   "execution_count": 3,
   "metadata": {},
   "outputs": [
    {
     "ename": "NameError",
     "evalue": "name 'count' is not defined",
     "output_type": "error",
     "traceback": [
      "\u001b[0;31m---------------------------------------------------------------------------\u001b[0m",
      "\u001b[0;31mNameError\u001b[0m                                 Traceback (most recent call last)",
      "Cell \u001b[0;32mIn [3], line 22\u001b[0m\n\u001b[1;32m     19\u001b[0m     \u001b[39mif\u001b[39;00m os\u001b[39m.\u001b[39mpath\u001b[39m.\u001b[39mexists(l):\n\u001b[1;32m     20\u001b[0m         \u001b[39m# shutil.copy(l, dst_path)\u001b[39;00m\n\u001b[1;32m     21\u001b[0m         logo_detec\n\u001b[0;32m---> 22\u001b[0m         count \u001b[39m=\u001b[39m count \u001b[39m+\u001b[39m \u001b[39m1\u001b[39m\n\u001b[1;32m     23\u001b[0m li \u001b[39m=\u001b[39m glob\u001b[39m.\u001b[39mglob(path\u001b[39m+\u001b[39m\u001b[39m\"\u001b[39m\u001b[39m/*Logo*\u001b[39m\u001b[39m\"\u001b[39m)\n\u001b[1;32m     24\u001b[0m \u001b[39mfor\u001b[39;00m l \u001b[39min\u001b[39;00m li:\n",
      "\u001b[0;31mNameError\u001b[0m: name 'count' is not defined"
     ]
    }
   ],
   "source": [
    "if __name__ == \"__main__\":\n",
    "    path = \"/home/henok_desalegn/data/Challenge_Data/performance_data.csv\"\n",
    "    df = pd.read_csv(path)\n",
    "    game_id_col = df['game_id']\n",
    "    target_dir = \"/home/henok_desalegn/data/extracted_images\"\n",
    "    parent_dir = \"/home/henok_desalegn/data/Challenge_Data/Assets\"\n",
    "    # image = cv2.imread(\"/home/henok_desalegn/data/Challenge_Data/Assets/251daf76d78711e74c9b441f4bb62834/_preview.png\")\n",
    "    # template = cv2.imread(\"/home/henok_desalegn/data/Challenge_Data/Assets/251daf76d78711e74c9b441f4bb62834/logo.png\")\n",
    "    df = df.append({'Name' : 'Aishwary', 'Articles' : 30, 'Improved' : 50},\n",
    "        ignore_index = True)\n",
    "    # count = 0\n",
    "    for i in range(len(game_id_col)):\n",
    "        # print(\"Processing asset \" + game_id_col[i] + \"index \" + str(i))\n",
    "        path = os.path.join(parent_dir, game_id_col[i])\n",
    "        dst_path = os.path.join(target_dir, game_id_col[i])\n",
    "        # glob module is used to return all file paths that match a specific pattern.\n",
    "        li = glob.glob(path+\"/*logo*\")\n",
    "        for l in li:\n",
    "            # os.path.exists() is used to check whether the specified path is existed or not \n",
    "            if os.path.exists(l):\n",
    "                # shutil.copy(l, dst_path)\n",
    "                startX,startY,endX,endY = logo_detec(dst_path,path)\n",
    "                count = count + 1\n",
    "        li = glob.glob(path+\"/*Logo*\")\n",
    "        for l in li:\n",
    "            if os.path.exists(l):\n",
    "                shutil.copy(l, dst_path)\n",
    "                count = count + 1\n",
    "        li = glob.glob(path+\"/*LOGO*\")\n",
    "        for l in li:\n",
    "            if os.path.exists(l):\n",
    "                shutil.copy(l, dst_path)\n",
    "                count = count + 1\n",
    "    print(count)"
   ]
  },
  {
   "cell_type": "code",
   "execution_count": null,
   "metadata": {},
   "outputs": [],
   "source": [
    "import pandas as pd\n",
    "import os\n",
    "import glob\n",
    "if __name__ == \"__main__\":\n",
    "    path = \"../data/performance_data.csv\"\n",
    "    df = pd.read_csv(path)\n",
    "    game_id_col = df['game_id']\n",
    "    parent_dir = \"../data/Assets\"\n",
    "    count = 0\n",
    "    for i in range(len(game_id_col)):\n",
    "        print(\"Processing asset \" + game_id_col[i] + \"index \" + str(i))\n",
    "        path = os.path.join(parent_dir, game_id_col[i])\n",
    "        li = glob.glob(path+\"/*logo*\")\n",
    "        for l in li:\n",
    "            if os.path.exists(l):\n",
    "                count = count + 1\n",
    "        li = glob.glob(path+\"/*Logo*\")\n",
    "        for l in li:\n",
    "            if os.path.exists(l):\n",
    "                count = count + 1\n",
    "        li = glob.glob(path+\"/*LOGO*\")\n",
    "        for l in li:\n",
    "            if os.path.exists(l):\n",
    "                count = count + 1\n",
    "    print(count)"
   ]
  },
  {
   "cell_type": "code",
   "execution_count": null,
   "metadata": {},
   "outputs": [],
   "source": []
  }
 ],
 "metadata": {
  "kernelspec": {
   "display_name": "venv",
   "language": "python",
   "name": "venv"
  },
  "language_info": {
   "codemirror_mode": {
    "name": "ipython",
    "version": 3
   },
   "file_extension": ".py",
   "mimetype": "text/x-python",
   "name": "python",
   "nbconvert_exporter": "python",
   "pygments_lexer": "ipython3",
   "version": "3.8.10"
  },
  "orig_nbformat": 4,
  "vscode": {
   "interpreter": {
    "hash": "31f2aee4e71d21fbe5cf8b01ff0e069b9275f58929596ceb00d14d90e3e16cd6"
   }
  }
 },
 "nbformat": 4,
 "nbformat_minor": 2
}
