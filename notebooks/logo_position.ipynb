{
 "cells": [
  {
   "cell_type": "code",
   "execution_count": 1,
   "metadata": {},
   "outputs": [],
   "source": [
    "import os \n",
    "import pandas as pd\n",
    "import os\n",
    "import glob\n",
    "import shutil\n",
    "import cv2 as cv\n",
    "import argparse\n",
    "import cv2\n",
    "from matplotlib import pyplot as plt"
   ]
  },
  {
   "cell_type": "code",
   "execution_count": null,
   "metadata": {},
   "outputs": [],
   "source": []
  },
  {
   "cell_type": "code",
   "execution_count": null,
   "metadata": {},
   "outputs": [],
   "source": [
    "import pandas as pd\n",
    "import os\n",
    "import glob\n",
    "if __name__ == \"__main__\":\n",
    "    path = \"../data/performance_data.csv\"\n",
    "    df = pd.read_csv(path)\n",
    "    game_id_col = df['game_id']\n",
    "    parent_dir = \"../data/Assets\"\n",
    "    count = 0\n",
    "    for i in range(len(game_id_col)):\n",
    "        print(\"Processing asset \" + game_id_col[i] + \"index \" + str(i))\n",
    "        path = os.path.join(parent_dir, game_id_col[i])\n",
    "        li = glob.glob(path+\"/*logo*\")\n",
    "        for l in li:\n",
    "            if os.path.exists(l):\n",
    "                count = count + 1\n",
    "        li = glob.glob(path+\"/*Logo*\")\n",
    "        for l in li:\n",
    "            if os.path.exists(l):\n",
    "                count = count + 1\n",
    "        li = glob.glob(path+\"/*LOGO*\")\n",
    "        for l in li:\n",
    "            if os.path.exists(l):\n",
    "                count = count + 1\n",
    "    print(count)"
   ]
  },
  {
   "cell_type": "code",
   "execution_count": null,
   "metadata": {},
   "outputs": [],
   "source": []
  }
 ],
 "metadata": {
  "kernelspec": {
   "display_name": "venv",
   "language": "python",
   "name": "venv"
  },
  "language_info": {
   "codemirror_mode": {
    "name": "ipython",
    "version": 3
   },
   "file_extension": ".py",
   "mimetype": "text/x-python",
   "name": "python",
   "nbconvert_exporter": "python",
   "pygments_lexer": "ipython3",
   "version": "3.8.10"
  },
  "orig_nbformat": 4,
  "vscode": {
   "interpreter": {
    "hash": "31f2aee4e71d21fbe5cf8b01ff0e069b9275f58929596ceb00d14d90e3e16cd6"
   }
  }
 },
 "nbformat": 4,
 "nbformat_minor": 2
}
