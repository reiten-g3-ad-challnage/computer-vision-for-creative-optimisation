{
 "cells": [
  {
   "cell_type": "code",
   "execution_count": 1,
   "metadata": {},
   "outputs": [],
   "source": [
    "import extcolors\n",
    "import pandas as pd\n",
    "from colormap import rgb2hex\n",
    "from matplotlib import pyplot as plt\n",
    "from PIL import Image"
   ]
  },
  {
   "cell_type": "code",
   "execution_count": 2,
   "metadata": {},
   "outputs": [],
   "source": [
    "import sys, os\n",
    "\n",
    "sys.path.append(os.path.abspath(os.path.join(\"../..\")))\n",
    "sys.path.append(os.path.abspath(os.path.join(\"../scripts\")))"
   ]
  },
  {
   "cell_type": "code",
   "execution_count": 3,
   "metadata": {},
   "outputs": [],
   "source": [
    "import color_extraction \n",
    "#from color_extraction import extract_color\n",
    "\n",
    "extract_color = color_extraction.extract_color()"
   ]
  },
  {
   "cell_type": "code",
   "execution_count": 4,
   "metadata": {},
   "outputs": [],
   "source": [
    "import os\n",
    "from dotenv import load_dotenv\n",
    "\n",
    "load_dotenv()\n",
    "\n",
    "path_to_dataset = os.getenv('path_to_provided_data')\n",
    "path_to_extracted = os.getenv('path_to_extracted_data')\n",
    "output_path = os.getenv('output_home')"
   ]
  },
  {
   "cell_type": "code",
   "execution_count": 6,
   "metadata": {},
   "outputs": [
    {
     "name": "stdout",
     "output_type": "stream",
     "text": [
      "<class 'pandas.core.frame.DataFrame'>\n",
      "RangeIndex: 905 entries, 0 to 904\n",
      "Data columns (total 4 columns):\n",
      " #   Column        Non-Null Count  Dtype  \n",
      "---  ------        --------------  -----  \n",
      " 0   game_id       905 non-null    object \n",
      " 1   preview_link  905 non-null    object \n",
      " 2   ER            905 non-null    float64\n",
      " 3   CTR           905 non-null    float64\n",
      "dtypes: float64(2), object(2)\n",
      "memory usage: 28.4+ KB\n"
     ]
    }
   ],
   "source": [
    "# load the performance data, we only need the game_id data\n",
    "\n",
    "data = pd.read_csv(path_to_dataset+'performance_data.csv')\n",
    "data.info()"
   ]
  },
  {
   "cell_type": "code",
   "execution_count": 7,
   "metadata": {},
   "outputs": [
    {
     "data": {
      "text/html": [
       "<div>\n",
       "<style scoped>\n",
       "    .dataframe tbody tr th:only-of-type {\n",
       "        vertical-align: middle;\n",
       "    }\n",
       "\n",
       "    .dataframe tbody tr th {\n",
       "        vertical-align: top;\n",
       "    }\n",
       "\n",
       "    .dataframe thead th {\n",
       "        text-align: right;\n",
       "    }\n",
       "</style>\n",
       "<table border=\"1\" class=\"dataframe\">\n",
       "  <thead>\n",
       "    <tr style=\"text-align: right;\">\n",
       "      <th></th>\n",
       "      <th>c_code</th>\n",
       "      <th>rgb</th>\n",
       "      <th>occurrence</th>\n",
       "    </tr>\n",
       "  </thead>\n",
       "  <tbody>\n",
       "    <tr>\n",
       "      <th>0</th>\n",
       "      <td>#FFFFFF</td>\n",
       "      <td>(255, 255, 255)</td>\n",
       "      <td>404789</td>\n",
       "    </tr>\n",
       "    <tr>\n",
       "      <th>1</th>\n",
       "      <td>#D3E6E5</td>\n",
       "      <td>(211, 230, 229)</td>\n",
       "      <td>48331</td>\n",
       "    </tr>\n",
       "    <tr>\n",
       "      <th>2</th>\n",
       "      <td>#434343</td>\n",
       "      <td>(67, 67, 67)</td>\n",
       "      <td>34293</td>\n",
       "    </tr>\n",
       "    <tr>\n",
       "      <th>3</th>\n",
       "      <td>#7F7F7F</td>\n",
       "      <td>(127, 127, 127)</td>\n",
       "      <td>22028</td>\n",
       "    </tr>\n",
       "    <tr>\n",
       "      <th>4</th>\n",
       "      <td>#C3C6BF</td>\n",
       "      <td>(195, 198, 191)</td>\n",
       "      <td>21865</td>\n",
       "    </tr>\n",
       "    <tr>\n",
       "      <th>5</th>\n",
       "      <td>#7F6154</td>\n",
       "      <td>(127, 97, 84)</td>\n",
       "      <td>18726</td>\n",
       "    </tr>\n",
       "    <tr>\n",
       "      <th>6</th>\n",
       "      <td>#000000</td>\n",
       "      <td>(0, 0, 0)</td>\n",
       "      <td>15107</td>\n",
       "    </tr>\n",
       "    <tr>\n",
       "      <th>7</th>\n",
       "      <td>#5B4737</td>\n",
       "      <td>(91, 71, 55)</td>\n",
       "      <td>11635</td>\n",
       "    </tr>\n",
       "    <tr>\n",
       "      <th>8</th>\n",
       "      <td>#232323</td>\n",
       "      <td>(35, 35, 35)</td>\n",
       "      <td>11126</td>\n",
       "    </tr>\n",
       "    <tr>\n",
       "      <th>9</th>\n",
       "      <td>#A27A66</td>\n",
       "      <td>(162, 122, 102)</td>\n",
       "      <td>9447</td>\n",
       "    </tr>\n",
       "  </tbody>\n",
       "</table>\n",
       "</div>"
      ],
      "text/plain": [
       "    c_code              rgb occurrence\n",
       "0  #FFFFFF  (255, 255, 255)     404789\n",
       "1  #D3E6E5  (211, 230, 229)      48331\n",
       "2  #434343     (67, 67, 67)      34293\n",
       "3  #7F7F7F  (127, 127, 127)      22028\n",
       "4  #C3C6BF  (195, 198, 191)      21865\n",
       "5  #7F6154    (127, 97, 84)      18726\n",
       "6  #000000        (0, 0, 0)      15107\n",
       "7  #5B4737     (91, 71, 55)      11635\n",
       "8  #232323     (35, 35, 35)      11126\n",
       "9  #A27A66  (162, 122, 102)       9447"
      ]
     },
     "execution_count": 7,
     "metadata": {},
     "output_type": "execute_result"
    }
   ],
   "source": [
    "# example of 1 pic\n",
    "gameid = data.loc[0, 'game_id']\n",
    "path_to_pic = path_to_extracted + gameid + '/' + 'start_frame' + '.png'\n",
    "\n",
    "# colorExt.identify_color_composition(path_to_pic, tolerance=12, limit=10, visualize=True)\n",
    "extract_color.identify_color_composition(path_to_pic, tolerance=12, limit=10, visualize=False)"
   ]
  },
  {
   "cell_type": "code",
   "execution_count": 8,
   "metadata": {},
   "outputs": [
    {
     "data": {
      "text/plain": [
       "['#FFFFFF',\n",
       " '#D3E6E5',\n",
       " '#434343',\n",
       " '#7F7F7F',\n",
       " 0.632542113323124,\n",
       " 0.07552426790011564,\n",
       " 0.05358783635965872,\n",
       " 0.034421977060349405]"
      ]
     },
     "execution_count": 8,
     "metadata": {},
     "output_type": "execute_result"
    }
   ],
   "source": [
    "# extract 4 dominant colors\n",
    "\n",
    "extract_color.identify_dominant_colors(path_to_pic, tolerance=12, top=4)"
   ]
  },
  {
   "cell_type": "code",
   "execution_count": 10,
   "metadata": {},
   "outputs": [],
   "source": [
    "def dom_colors_to_df(game_ids, pic_name:str, input_path: str, output_path:str, \n",
    "                     tolerance: int=12, top: int=2, writeout: bool=True, writeout_every: int=50):\n",
    "\n",
    "    \"\"\"A function that extract top dominant colors form images and returns a dataframe\n",
    "    optional: write result to csv file\n",
    "    \"\"\"\n",
    "    game_ids = game_ids\n",
    "    col_names = ['game_id'] + ['dom_color_' + str(i+1) for i in range(top)] + ['dom_prct_' + str(i+1) for i in range(top)] \n",
    "\n",
    "    df = pd.DataFrame(columns= col_names)\n",
    "\n",
    "    for i, game_id in enumerate(game_ids):\n",
    "        path_to_pic = input_path + game_id + '/' + pic_name\n",
    "        dom_colors = [None]*top*2\n",
    "        if os.path.exists(path_to_pic):\n",
    "            dom_colors = extract_color.identify_dominant_colors(path_to_pic, tolerance=tolerance, top=top)\n",
    "        row = [game_id] + dom_colors\n",
    "        df.loc[i] = row\n",
    "\n",
    "        if writeout and (i+1)%writeout_every ==0:\n",
    "            df.to_csv(output_path+pic_name[:-4]+'_dom_colors.csv', index=False)\n",
    "\n",
    "    if writeout:\n",
    "        df.to_csv(output_path+pic_name[:-4]+'_dom_colors.csv', index=False)\n",
    "\n",
    "    return df"
   ]
  },
  {
   "cell_type": "code",
   "execution_count": 14,
   "metadata": {},
   "outputs": [],
   "source": [
    "# identify dominant colors for startframes for our dataset\n",
    "# ! this code will take a while to run\n",
    "\n",
    "gameids = data.loc[:, 'game_id']\n",
    "\n",
    "df = dom_colors_to_df(gameids, 'start_frame.png', path_to_extracted, output_path)"
   ]
  },
  {
   "cell_type": "code",
   "execution_count": null,
   "metadata": {},
   "outputs": [],
   "source": []
  }
 ],
 "metadata": {
  "kernelspec": {
   "display_name": "Python 3.8.10 ('env': venv)",
   "language": "python",
   "name": "python3"
  },
  "language_info": {
   "codemirror_mode": {
    "name": "ipython",
    "version": 3
   },
   "file_extension": ".py",
   "mimetype": "text/x-python",
   "name": "python",
   "nbconvert_exporter": "python",
   "pygments_lexer": "ipython3",
   "version": "3.8.10"
  },
  "orig_nbformat": 4,
  "vscode": {
   "interpreter": {
    "hash": "7ae324af64771f8cab5aa195ca3c63740a2668f1a16a5ab53fdf158ca87c7825"
   }
  }
 },
 "nbformat": 4,
 "nbformat_minor": 2
}
