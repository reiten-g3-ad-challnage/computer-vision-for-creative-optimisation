{
 "cells": [
  {
   "cell_type": "code",
   "execution_count": 1,
   "metadata": {},
   "outputs": [],
   "source": [
    "import os\n",
    "import cv2 \n",
    "import glob\n",
    "import numpy as np\n",
    "import pandas as pd\n",
    "import matplotlib.pyplot as plt"
   ]
  },
  {
   "cell_type": "code",
   "execution_count": 3,
   "metadata": {},
   "outputs": [],
   "source": [
    "import sys\n",
    "sys.path.append('../scripts')\n",
    "from gluoncv_Object_Detection import ObjectDetector\n"
   ]
  },
  {
   "cell_type": "markdown",
   "metadata": {},
   "source": [
    "object detection"
   ]
  },
  {
   "cell_type": "code",
   "execution_count": 5,
   "metadata": {},
   "outputs": [],
   "source": [
    "obj_detector = ObjectDetector('img')\n",
    "net = obj_detector.load_yolo()"
   ]
  },
  {
   "cell_type": "code",
   "execution_count": 7,
   "metadata": {},
   "outputs": [],
   "source": [
    "class_IDs, scores, bounding_boxs,img = obj_detector. detect_from_image('../data/image.jpg',net)"
   ]
  },
  {
   "cell_type": "code",
   "execution_count": 9,
   "metadata": {},
   "outputs": [],
   "source": [
    "print(bounding_boxs[0][:3])\n",
    "print(class_IDs[0][:3])\n",
    "obj_detector.plot_detection(img,class_IDs, scores, bounding_boxs)"
   ]
  },
  {
   "cell_type": "code",
   "execution_count": null,
   "metadata": {},
   "outputs": [],
   "source": [
    "folders = glob.glob('../data/Challenge_Data/Assets/*')\n",
    "object_id_feature = [0]*100\n",
    "right_btmx = [0]*100\n",
    "right_btmy = [0]*100 \n",
    "top_lftx = [0]*100\n",
    "top_lfty = [0]*100\n",
    "\n",
    "object_feature = []\n",
    "for folder in folders:\n",
    "    query_img = os.path.join(folder,'_preview.png')\n",
    "    if os.path.exists(query_img):\n",
    "        class_IDs, scores, bounding_boxs,img = od. detect_from_image(query_img,net)\n",
    "        \n",
    "        id_list = class_IDs.squeeze().asnumpy().tolist()\n",
    "        for i in range(len(id_list)):\n",
    "            if id_list[i]!=-1:\n",
    "                object_id_feature[int(id_list[i])] = 1\n",
    "                right_btmx[int(id_list[i])] = bounding_boxs[0][i][0] \n",
    "                right_btmy[int(id_list[i])] = bounding_boxs[0][i][1]\n",
    "                top_lftx[int(id_list[i])] = bounding_boxs[0][i][2]\n",
    "                top_lfty[int(id_list[i])] = bounding_boxs[0][i][3] \n",
    "                \n",
    "        object_feature.append([folder.split('/')[-1]] + object_id_feature + right_btmx + right_btmy + top_lftx + top_lfty) \n",
    "       \n",
    "    else:\n",
    "        object_feature.append([folder.split('/')[-1]]+[0]*500)"
   ]
  },
  {
   "cell_type": "code",
   "execution_count": null,
   "metadata": {},
   "outputs": [],
   "source": [
    "df = pd.DataFrame(object_feature)\n",
    "df.to_csv('detected_object.csv',index=False)\n",
    "df.head()"
   ]
  }
 ],
 "metadata": {
  "kernelspec": {
   "display_name": "Python 3 (ipykernel)",
   "language": "python",
   "name": "python3"
  },
  "language_info": {
   "codemirror_mode": {
    "name": "ipython",
    "version": 3
   },
   "file_extension": ".py",
   "mimetype": "text/x-python",
   "name": "python",
   "nbconvert_exporter": "python",
   "pygments_lexer": "ipython3",
   "version": "3.9.12"
  }
 },
 "nbformat": 4,
 "nbformat_minor": 2
}
