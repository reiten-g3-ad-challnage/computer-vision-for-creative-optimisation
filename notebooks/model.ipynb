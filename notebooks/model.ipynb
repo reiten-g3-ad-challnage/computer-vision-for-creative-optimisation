{
 "cells": [
  {
   "cell_type": "markdown",
   "metadata": {},
   "source": [
    "# Modeling"
   ]
  },
  {
   "cell_type": "code",
   "execution_count": 1,
   "metadata": {},
   "outputs": [],
   "source": [
    "#import required packages\n",
    "import pandas as pd\n",
    "import numpy as np\n",
    "from sklearn.preprocessing import LabelEncoder\n",
    "import os,sys\n",
    "sys.path.insert(0,'../scripts/')\n",
    "from Randomforest_regressor import randomforestregressor"
   ]
  },
  {
   "cell_type": "markdown",
   "metadata": {},
   "source": [
    "#### Fetch data"
   ]
  },
  {
   "cell_type": "code",
   "execution_count": 2,
   "metadata": {},
   "outputs": [],
   "source": [
    "data = pd.read_csv('../data/merged_data.csv')"
   ]
  },
  {
   "cell_type": "markdown",
   "metadata": {},
   "source": [
    "#### Our data's information"
   ]
  },
  {
   "cell_type": "code",
   "execution_count": 3,
   "metadata": {},
   "outputs": [
    {
     "data": {
      "text/plain": [
       "(556, 21)"
      ]
     },
     "execution_count": 3,
     "metadata": {},
     "output_type": "execute_result"
    }
   ],
   "source": [
    "data.shape"
   ]
  },
  {
   "cell_type": "code",
   "execution_count": 4,
   "metadata": {},
   "outputs": [
    {
     "name": "stdout",
     "output_type": "stream",
     "text": [
      "<class 'pandas.core.frame.DataFrame'>\n",
      "RangeIndex: 556 entries, 0 to 555\n",
      "Data columns (total 21 columns):\n",
      " #   Column             Non-Null Count  Dtype  \n",
      "---  ------             --------------  -----  \n",
      " 0   Unnamed: 0         556 non-null    int64  \n",
      " 1   game_id            556 non-null    object \n",
      " 2   emotion_x          556 non-null    object \n",
      " 3   gender_x           556 non-null    object \n",
      " 4   race_x             556 non-null    object \n",
      " 5   emotion_y          556 non-null    object \n",
      " 6   gender_y           556 non-null    object \n",
      " 7   race_y             556 non-null    object \n",
      " 8   edges_pixel_count  556 non-null    float64\n",
      " 9   object_count       556 non-null    int64  \n",
      " 10  dom_color_1        556 non-null    object \n",
      " 11  dom_color_2        556 non-null    object \n",
      " 12  dom_prct_1         556 non-null    float64\n",
      " 13  dom_prct_2         556 non-null    float64\n",
      " 14  startX             539 non-null    float64\n",
      " 15  startY             539 non-null    float64\n",
      " 16  height             539 non-null    float64\n",
      " 17  width              539 non-null    float64\n",
      " 18  preview_link       556 non-null    object \n",
      " 19  ER                 556 non-null    float64\n",
      " 20  CTR                556 non-null    float64\n",
      "dtypes: float64(9), int64(2), object(10)\n",
      "memory usage: 91.3+ KB\n"
     ]
    }
   ],
   "source": [
    "data.info()"
   ]
  },
  {
   "cell_type": "code",
   "execution_count": 5,
   "metadata": {},
   "outputs": [
    {
     "data": {
      "text/plain": [
       "Index(['Unnamed: 0', 'game_id', 'emotion_x', 'gender_x', 'race_x', 'emotion_y',\n",
       "       'gender_y', 'race_y', 'edges_pixel_count', 'object_count',\n",
       "       'dom_color_1', 'dom_color_2', 'dom_prct_1', 'dom_prct_2', 'startX',\n",
       "       'startY', 'height', 'width', 'preview_link', 'ER', 'CTR'],\n",
       "      dtype='object')"
      ]
     },
     "execution_count": 5,
     "metadata": {},
     "output_type": "execute_result"
    }
   ],
   "source": [
    "data.columns"
   ]
  },
  {
   "cell_type": "markdown",
   "metadata": {},
   "source": [
    "#### Remove unnecessary columns"
   ]
  },
  {
   "cell_type": "code",
   "execution_count": 6,
   "metadata": {},
   "outputs": [],
   "source": [
    "data = data.drop(columns=['Unnamed: 0','game_id','emotion_y','gender_y','race_y','preview_link'])"
   ]
  },
  {
   "cell_type": "code",
   "execution_count": 7,
   "metadata": {},
   "outputs": [
    {
     "name": "stdout",
     "output_type": "stream",
     "text": [
      "<class 'pandas.core.frame.DataFrame'>\n",
      "RangeIndex: 556 entries, 0 to 555\n",
      "Data columns (total 15 columns):\n",
      " #   Column             Non-Null Count  Dtype  \n",
      "---  ------             --------------  -----  \n",
      " 0   emotion_x          556 non-null    object \n",
      " 1   gender_x           556 non-null    object \n",
      " 2   race_x             556 non-null    object \n",
      " 3   edges_pixel_count  556 non-null    float64\n",
      " 4   object_count       556 non-null    int64  \n",
      " 5   dom_color_1        556 non-null    object \n",
      " 6   dom_color_2        556 non-null    object \n",
      " 7   dom_prct_1         556 non-null    float64\n",
      " 8   dom_prct_2         556 non-null    float64\n",
      " 9   startX             539 non-null    float64\n",
      " 10  startY             539 non-null    float64\n",
      " 11  height             539 non-null    float64\n",
      " 12  width              539 non-null    float64\n",
      " 13  ER                 556 non-null    float64\n",
      " 14  CTR                556 non-null    float64\n",
      "dtypes: float64(9), int64(1), object(5)\n",
      "memory usage: 65.3+ KB\n"
     ]
    }
   ],
   "source": [
    "data.info()"
   ]
  },
  {
   "cell_type": "code",
   "execution_count": 8,
   "metadata": {},
   "outputs": [
    {
     "data": {
      "text/html": [
       "<div>\n",
       "<style scoped>\n",
       "    .dataframe tbody tr th:only-of-type {\n",
       "        vertical-align: middle;\n",
       "    }\n",
       "\n",
       "    .dataframe tbody tr th {\n",
       "        vertical-align: top;\n",
       "    }\n",
       "\n",
       "    .dataframe thead th {\n",
       "        text-align: right;\n",
       "    }\n",
       "</style>\n",
       "<table border=\"1\" class=\"dataframe\">\n",
       "  <thead>\n",
       "    <tr style=\"text-align: right;\">\n",
       "      <th></th>\n",
       "      <th>emotion_x</th>\n",
       "      <th>gender_x</th>\n",
       "      <th>race_x</th>\n",
       "      <th>edges_pixel_count</th>\n",
       "      <th>object_count</th>\n",
       "      <th>dom_color_1</th>\n",
       "      <th>dom_color_2</th>\n",
       "      <th>dom_prct_1</th>\n",
       "      <th>dom_prct_2</th>\n",
       "      <th>startX</th>\n",
       "      <th>startY</th>\n",
       "      <th>height</th>\n",
       "      <th>width</th>\n",
       "      <th>ER</th>\n",
       "      <th>CTR</th>\n",
       "    </tr>\n",
       "  </thead>\n",
       "  <tbody>\n",
       "    <tr>\n",
       "      <th>0</th>\n",
       "      <td>neutral</td>\n",
       "      <td>Woman</td>\n",
       "      <td>white</td>\n",
       "      <td>21191.0</td>\n",
       "      <td>5</td>\n",
       "      <td>#F5CEAC</td>\n",
       "      <td>#FF0015</td>\n",
       "      <td>0.508871</td>\n",
       "      <td>0.065859</td>\n",
       "      <td>149.0</td>\n",
       "      <td>806.0</td>\n",
       "      <td>244.0</td>\n",
       "      <td>244.0</td>\n",
       "      <td>0.136963</td>\n",
       "      <td>0.005393</td>\n",
       "    </tr>\n",
       "    <tr>\n",
       "      <th>1</th>\n",
       "      <td>happy</td>\n",
       "      <td>Woman</td>\n",
       "      <td>white</td>\n",
       "      <td>41925.0</td>\n",
       "      <td>14</td>\n",
       "      <td>#496577</td>\n",
       "      <td>#004369</td>\n",
       "      <td>0.120734</td>\n",
       "      <td>0.111461</td>\n",
       "      <td>5.0</td>\n",
       "      <td>580.0</td>\n",
       "      <td>323.0</td>\n",
       "      <td>323.0</td>\n",
       "      <td>0.114208</td>\n",
       "      <td>0.016443</td>\n",
       "    </tr>\n",
       "    <tr>\n",
       "      <th>2</th>\n",
       "      <td>neutral</td>\n",
       "      <td>Man</td>\n",
       "      <td>white</td>\n",
       "      <td>27830.0</td>\n",
       "      <td>1</td>\n",
       "      <td>#D4D2C3</td>\n",
       "      <td>#7D8282</td>\n",
       "      <td>0.118827</td>\n",
       "      <td>0.102880</td>\n",
       "      <td>106.0</td>\n",
       "      <td>16.0</td>\n",
       "      <td>422.0</td>\n",
       "      <td>422.0</td>\n",
       "      <td>0.037748</td>\n",
       "      <td>0.004508</td>\n",
       "    </tr>\n",
       "    <tr>\n",
       "      <th>3</th>\n",
       "      <td>None</td>\n",
       "      <td>None</td>\n",
       "      <td>None</td>\n",
       "      <td>27219.0</td>\n",
       "      <td>1</td>\n",
       "      <td>#13130D</td>\n",
       "      <td>#081F2C</td>\n",
       "      <td>0.491751</td>\n",
       "      <td>0.090518</td>\n",
       "      <td>630.0</td>\n",
       "      <td>411.0</td>\n",
       "      <td>303.0</td>\n",
       "      <td>303.0</td>\n",
       "      <td>0.031971</td>\n",
       "      <td>0.000015</td>\n",
       "    </tr>\n",
       "    <tr>\n",
       "      <th>4</th>\n",
       "      <td>None</td>\n",
       "      <td>None</td>\n",
       "      <td>None</td>\n",
       "      <td>9009.0</td>\n",
       "      <td>2</td>\n",
       "      <td>#000000</td>\n",
       "      <td>#D7D6CD</td>\n",
       "      <td>0.242684</td>\n",
       "      <td>0.209823</td>\n",
       "      <td>11.0</td>\n",
       "      <td>11.0</td>\n",
       "      <td>600.0</td>\n",
       "      <td>600.0</td>\n",
       "      <td>0.067083</td>\n",
       "      <td>0.012776</td>\n",
       "    </tr>\n",
       "  </tbody>\n",
       "</table>\n",
       "</div>"
      ],
      "text/plain": [
       "  emotion_x gender_x race_x  edges_pixel_count  object_count dom_color_1  \\\n",
       "0   neutral    Woman  white            21191.0             5     #F5CEAC   \n",
       "1     happy    Woman  white            41925.0            14     #496577   \n",
       "2   neutral      Man  white            27830.0             1     #D4D2C3   \n",
       "3      None     None   None            27219.0             1     #13130D   \n",
       "4      None     None   None             9009.0             2     #000000   \n",
       "\n",
       "  dom_color_2  dom_prct_1  dom_prct_2  startX  startY  height  width  \\\n",
       "0     #FF0015    0.508871    0.065859   149.0   806.0   244.0  244.0   \n",
       "1     #004369    0.120734    0.111461     5.0   580.0   323.0  323.0   \n",
       "2     #7D8282    0.118827    0.102880   106.0    16.0   422.0  422.0   \n",
       "3     #081F2C    0.491751    0.090518   630.0   411.0   303.0  303.0   \n",
       "4     #D7D6CD    0.242684    0.209823    11.0    11.0   600.0  600.0   \n",
       "\n",
       "         ER       CTR  \n",
       "0  0.136963  0.005393  \n",
       "1  0.114208  0.016443  \n",
       "2  0.037748  0.004508  \n",
       "3  0.031971  0.000015  \n",
       "4  0.067083  0.012776  "
      ]
     },
     "execution_count": 8,
     "metadata": {},
     "output_type": "execute_result"
    }
   ],
   "source": [
    "data.head()"
   ]
  },
  {
   "cell_type": "markdown",
   "metadata": {},
   "source": [
    "#### Convert categorical data into numeric data uing label encoder"
   ]
  },
  {
   "cell_type": "code",
   "execution_count": 9,
   "metadata": {},
   "outputs": [
    {
     "data": {
      "text/plain": [
       "['emotion_x', 'gender_x', 'race_x', 'dom_color_1', 'dom_color_2']"
      ]
     },
     "execution_count": 9,
     "metadata": {},
     "output_type": "execute_result"
    }
   ],
   "source": [
    "non_numeric_columns = list(data.select_dtypes(exclude=[np.number]).columns)\n",
    "non_numeric_columns"
   ]
  },
  {
   "cell_type": "code",
   "execution_count": 10,
   "metadata": {},
   "outputs": [],
   "source": [
    "le = LabelEncoder()\n",
    "for col in non_numeric_columns:\n",
    "    data[col] = le.fit_transform(data[col])"
   ]
  },
  {
   "cell_type": "code",
   "execution_count": 11,
   "metadata": {},
   "outputs": [
    {
     "name": "stdout",
     "output_type": "stream",
     "text": [
      "<class 'pandas.core.frame.DataFrame'>\n",
      "RangeIndex: 556 entries, 0 to 555\n",
      "Data columns (total 15 columns):\n",
      " #   Column             Non-Null Count  Dtype  \n",
      "---  ------             --------------  -----  \n",
      " 0   emotion_x          556 non-null    int32  \n",
      " 1   gender_x           556 non-null    int32  \n",
      " 2   race_x             556 non-null    int32  \n",
      " 3   edges_pixel_count  556 non-null    float64\n",
      " 4   object_count       556 non-null    int64  \n",
      " 5   dom_color_1        556 non-null    int32  \n",
      " 6   dom_color_2        556 non-null    int32  \n",
      " 7   dom_prct_1         556 non-null    float64\n",
      " 8   dom_prct_2         556 non-null    float64\n",
      " 9   startX             539 non-null    float64\n",
      " 10  startY             539 non-null    float64\n",
      " 11  height             539 non-null    float64\n",
      " 12  width              539 non-null    float64\n",
      " 13  ER                 556 non-null    float64\n",
      " 14  CTR                556 non-null    float64\n",
      "dtypes: float64(9), int32(5), int64(1)\n",
      "memory usage: 54.4 KB\n"
     ]
    }
   ],
   "source": [
    "data.info()"
   ]
  },
  {
   "cell_type": "markdown",
   "metadata": {},
   "source": [
    "#### Handel missing values"
   ]
  },
  {
   "cell_type": "code",
   "execution_count": 12,
   "metadata": {},
   "outputs": [
    {
     "data": {
      "text/plain": [
       "emotion_x             0\n",
       "gender_x              0\n",
       "race_x                0\n",
       "edges_pixel_count     0\n",
       "object_count          0\n",
       "dom_color_1           0\n",
       "dom_color_2           0\n",
       "dom_prct_1            0\n",
       "dom_prct_2            0\n",
       "startX               17\n",
       "startY               17\n",
       "height               17\n",
       "width                17\n",
       "ER                    0\n",
       "CTR                   0\n",
       "dtype: int64"
      ]
     },
     "execution_count": 12,
     "metadata": {},
     "output_type": "execute_result"
    }
   ],
   "source": [
    "data.isna().sum()"
   ]
  },
  {
   "cell_type": "code",
   "execution_count": 13,
   "metadata": {},
   "outputs": [],
   "source": [
    "data = data.dropna()"
   ]
  },
  {
   "cell_type": "code",
   "execution_count": 14,
   "metadata": {},
   "outputs": [
    {
     "data": {
      "text/plain": [
       "emotion_x            0\n",
       "gender_x             0\n",
       "race_x               0\n",
       "edges_pixel_count    0\n",
       "object_count         0\n",
       "dom_color_1          0\n",
       "dom_color_2          0\n",
       "dom_prct_1           0\n",
       "dom_prct_2           0\n",
       "startX               0\n",
       "startY               0\n",
       "height               0\n",
       "width                0\n",
       "ER                   0\n",
       "CTR                  0\n",
       "dtype: int64"
      ]
     },
     "execution_count": 14,
     "metadata": {},
     "output_type": "execute_result"
    }
   ],
   "source": [
    "data.isna().sum()"
   ]
  },
  {
   "cell_type": "markdown",
   "metadata": {},
   "source": [
    "#### Split feature and target columns"
   ]
  },
  {
   "cell_type": "code",
   "execution_count": 15,
   "metadata": {},
   "outputs": [],
   "source": [
    "x = data.drop(columns=['ER','CTR'])\n",
    "y= data['ER']"
   ]
  },
  {
   "cell_type": "code",
   "execution_count": 16,
   "metadata": {},
   "outputs": [
    {
     "data": {
      "text/html": [
       "<div>\n",
       "<style scoped>\n",
       "    .dataframe tbody tr th:only-of-type {\n",
       "        vertical-align: middle;\n",
       "    }\n",
       "\n",
       "    .dataframe tbody tr th {\n",
       "        vertical-align: top;\n",
       "    }\n",
       "\n",
       "    .dataframe thead th {\n",
       "        text-align: right;\n",
       "    }\n",
       "</style>\n",
       "<table border=\"1\" class=\"dataframe\">\n",
       "  <thead>\n",
       "    <tr style=\"text-align: right;\">\n",
       "      <th></th>\n",
       "      <th>emotion_x</th>\n",
       "      <th>gender_x</th>\n",
       "      <th>race_x</th>\n",
       "      <th>edges_pixel_count</th>\n",
       "      <th>object_count</th>\n",
       "      <th>dom_color_1</th>\n",
       "      <th>dom_color_2</th>\n",
       "      <th>dom_prct_1</th>\n",
       "      <th>dom_prct_2</th>\n",
       "      <th>startX</th>\n",
       "      <th>startY</th>\n",
       "      <th>height</th>\n",
       "      <th>width</th>\n",
       "    </tr>\n",
       "  </thead>\n",
       "  <tbody>\n",
       "    <tr>\n",
       "      <th>0</th>\n",
       "      <td>4</td>\n",
       "      <td>2</td>\n",
       "      <td>5</td>\n",
       "      <td>21191.0</td>\n",
       "      <td>5</td>\n",
       "      <td>154</td>\n",
       "      <td>201</td>\n",
       "      <td>0.508871</td>\n",
       "      <td>0.065859</td>\n",
       "      <td>149.0</td>\n",
       "      <td>806.0</td>\n",
       "      <td>244.0</td>\n",
       "      <td>244.0</td>\n",
       "    </tr>\n",
       "    <tr>\n",
       "      <th>1</th>\n",
       "      <td>3</td>\n",
       "      <td>2</td>\n",
       "      <td>5</td>\n",
       "      <td>41925.0</td>\n",
       "      <td>14</td>\n",
       "      <td>82</td>\n",
       "      <td>4</td>\n",
       "      <td>0.120734</td>\n",
       "      <td>0.111461</td>\n",
       "      <td>5.0</td>\n",
       "      <td>580.0</td>\n",
       "      <td>323.0</td>\n",
       "      <td>323.0</td>\n",
       "    </tr>\n",
       "    <tr>\n",
       "      <th>2</th>\n",
       "      <td>4</td>\n",
       "      <td>0</td>\n",
       "      <td>5</td>\n",
       "      <td>27830.0</td>\n",
       "      <td>1</td>\n",
       "      <td>125</td>\n",
       "      <td>128</td>\n",
       "      <td>0.118827</td>\n",
       "      <td>0.102880</td>\n",
       "      <td>106.0</td>\n",
       "      <td>16.0</td>\n",
       "      <td>422.0</td>\n",
       "      <td>422.0</td>\n",
       "    </tr>\n",
       "    <tr>\n",
       "      <th>3</th>\n",
       "      <td>0</td>\n",
       "      <td>1</td>\n",
       "      <td>0</td>\n",
       "      <td>27219.0</td>\n",
       "      <td>1</td>\n",
       "      <td>42</td>\n",
       "      <td>38</td>\n",
       "      <td>0.491751</td>\n",
       "      <td>0.090518</td>\n",
       "      <td>630.0</td>\n",
       "      <td>411.0</td>\n",
       "      <td>303.0</td>\n",
       "      <td>303.0</td>\n",
       "    </tr>\n",
       "    <tr>\n",
       "      <th>4</th>\n",
       "      <td>0</td>\n",
       "      <td>1</td>\n",
       "      <td>0</td>\n",
       "      <td>9009.0</td>\n",
       "      <td>2</td>\n",
       "      <td>0</td>\n",
       "      <td>175</td>\n",
       "      <td>0.242684</td>\n",
       "      <td>0.209823</td>\n",
       "      <td>11.0</td>\n",
       "      <td>11.0</td>\n",
       "      <td>600.0</td>\n",
       "      <td>600.0</td>\n",
       "    </tr>\n",
       "  </tbody>\n",
       "</table>\n",
       "</div>"
      ],
      "text/plain": [
       "   emotion_x  gender_x  race_x  edges_pixel_count  object_count  dom_color_1  \\\n",
       "0          4         2       5            21191.0             5          154   \n",
       "1          3         2       5            41925.0            14           82   \n",
       "2          4         0       5            27830.0             1          125   \n",
       "3          0         1       0            27219.0             1           42   \n",
       "4          0         1       0             9009.0             2            0   \n",
       "\n",
       "   dom_color_2  dom_prct_1  dom_prct_2  startX  startY  height  width  \n",
       "0          201    0.508871    0.065859   149.0   806.0   244.0  244.0  \n",
       "1            4    0.120734    0.111461     5.0   580.0   323.0  323.0  \n",
       "2          128    0.118827    0.102880   106.0    16.0   422.0  422.0  \n",
       "3           38    0.491751    0.090518   630.0   411.0   303.0  303.0  \n",
       "4          175    0.242684    0.209823    11.0    11.0   600.0  600.0  "
      ]
     },
     "execution_count": 16,
     "metadata": {},
     "output_type": "execute_result"
    }
   ],
   "source": [
    "x.head()"
   ]
  },
  {
   "cell_type": "code",
   "execution_count": 17,
   "metadata": {},
   "outputs": [
    {
     "data": {
      "text/plain": [
       "0    0.136963\n",
       "1    0.114208\n",
       "2    0.037748\n",
       "3    0.031971\n",
       "4    0.067083\n",
       "Name: ER, dtype: float64"
      ]
     },
     "execution_count": 17,
     "metadata": {},
     "output_type": "execute_result"
    }
   ],
   "source": [
    "y.head()"
   ]
  },
  {
   "cell_type": "markdown",
   "metadata": {},
   "source": [
    "#### Fit the model"
   ]
  },
  {
   "cell_type": "code",
   "execution_count": 18,
   "metadata": {},
   "outputs": [
    {
     "name": "stdout",
     "output_type": "stream",
     "text": [
      "StandardScaler()\n"
     ]
    }
   ],
   "source": [
    "model = randomforestregressor(x,y,n_estimators=500,max_depth=120,random_state=8)"
   ]
  },
  {
   "cell_type": "markdown",
   "metadata": {},
   "source": [
    "#### Model predictions"
   ]
  },
  {
   "cell_type": "code",
   "execution_count": 19,
   "metadata": {},
   "outputs": [
    {
     "data": {
      "text/plain": [
       "array([0.0891104 , 0.15047236, 0.11642611, 0.11555006, 0.10220153,\n",
       "       0.13463345, 0.12082843, 0.08588283, 0.1426029 , 0.14485303,\n",
       "       0.06397299, 0.08069537, 0.09343044, 0.14409   , 0.11260262,\n",
       "       0.08486598, 0.19767645, 0.10079938, 0.08475763, 0.16840381,\n",
       "       0.24868936, 0.09624131, 0.15303692, 0.08694406, 0.15985518,\n",
       "       0.10022664, 0.08467822, 0.08609769, 0.16767887, 0.0890647 ,\n",
       "       0.04334945, 0.33394337, 0.1267619 , 0.07035087, 0.20881288,\n",
       "       0.17844853, 0.21552943, 0.12072724, 0.10350295, 0.04038511,\n",
       "       0.16783114, 0.11598476, 0.21745327, 0.2758834 , 0.03349684,\n",
       "       0.2634598 , 0.10865626, 0.15083221, 0.15866863, 0.2268697 ,\n",
       "       0.12762902, 0.20479607, 0.06843038, 0.08366625, 0.15659028,\n",
       "       0.07440146, 0.05261522, 0.18588022, 0.17109578, 0.15462985,\n",
       "       0.06320078, 0.26563504, 0.2268697 , 0.11642611, 0.18128566,\n",
       "       0.1291781 , 0.12172348, 0.0414547 , 0.05715286, 0.10182427,\n",
       "       0.10333627, 0.09473445, 0.09456164, 0.09764748, 0.1371244 ,\n",
       "       0.19419662, 0.16588882, 0.13735957, 0.17708816, 0.12815998,\n",
       "       0.18773384, 0.22066488, 0.15382008, 0.11118427, 0.11120532,\n",
       "       0.11223394, 0.14914526, 0.03616529, 0.11395351, 0.15895886,\n",
       "       0.11559497, 0.12815998, 0.06073264, 0.30568702, 0.07643889,\n",
       "       0.08100395, 0.11884193, 0.10326204, 0.12040598, 0.0770143 ,\n",
       "       0.07427231, 0.13087574, 0.12860995, 0.21548764, 0.11307854,\n",
       "       0.13416976, 0.15832185, 0.07803248])"
      ]
     },
     "execution_count": 19,
     "metadata": {},
     "output_type": "execute_result"
    }
   ],
   "source": [
    "model[0]"
   ]
  },
  {
   "cell_type": "markdown",
   "metadata": {},
   "source": [
    "#### Feature importances"
   ]
  },
  {
   "cell_type": "code",
   "execution_count": 20,
   "metadata": {},
   "outputs": [
    {
     "data": {
      "text/html": [
       "<div>\n",
       "<style scoped>\n",
       "    .dataframe tbody tr th:only-of-type {\n",
       "        vertical-align: middle;\n",
       "    }\n",
       "\n",
       "    .dataframe tbody tr th {\n",
       "        vertical-align: top;\n",
       "    }\n",
       "\n",
       "    .dataframe thead th {\n",
       "        text-align: right;\n",
       "    }\n",
       "</style>\n",
       "<table border=\"1\" class=\"dataframe\">\n",
       "  <thead>\n",
       "    <tr style=\"text-align: right;\">\n",
       "      <th></th>\n",
       "      <th>feature</th>\n",
       "      <th>feature_importances</th>\n",
       "    </tr>\n",
       "  </thead>\n",
       "  <tbody>\n",
       "    <tr>\n",
       "      <th>0</th>\n",
       "      <td>emotion_x</td>\n",
       "      <td>0.011240</td>\n",
       "    </tr>\n",
       "    <tr>\n",
       "      <th>1</th>\n",
       "      <td>gender_x</td>\n",
       "      <td>0.006979</td>\n",
       "    </tr>\n",
       "    <tr>\n",
       "      <th>2</th>\n",
       "      <td>race_x</td>\n",
       "      <td>0.016112</td>\n",
       "    </tr>\n",
       "    <tr>\n",
       "      <th>3</th>\n",
       "      <td>edges_pixel_count</td>\n",
       "      <td>0.146403</td>\n",
       "    </tr>\n",
       "    <tr>\n",
       "      <th>4</th>\n",
       "      <td>object_count</td>\n",
       "      <td>0.044811</td>\n",
       "    </tr>\n",
       "    <tr>\n",
       "      <th>5</th>\n",
       "      <td>dom_color_1</td>\n",
       "      <td>0.091061</td>\n",
       "    </tr>\n",
       "    <tr>\n",
       "      <th>6</th>\n",
       "      <td>dom_color_2</td>\n",
       "      <td>0.074575</td>\n",
       "    </tr>\n",
       "    <tr>\n",
       "      <th>7</th>\n",
       "      <td>dom_prct_1</td>\n",
       "      <td>0.128057</td>\n",
       "    </tr>\n",
       "    <tr>\n",
       "      <th>8</th>\n",
       "      <td>dom_prct_2</td>\n",
       "      <td>0.105474</td>\n",
       "    </tr>\n",
       "    <tr>\n",
       "      <th>9</th>\n",
       "      <td>startX</td>\n",
       "      <td>0.089729</td>\n",
       "    </tr>\n",
       "    <tr>\n",
       "      <th>10</th>\n",
       "      <td>startY</td>\n",
       "      <td>0.156949</td>\n",
       "    </tr>\n",
       "    <tr>\n",
       "      <th>11</th>\n",
       "      <td>height</td>\n",
       "      <td>0.064133</td>\n",
       "    </tr>\n",
       "    <tr>\n",
       "      <th>12</th>\n",
       "      <td>width</td>\n",
       "      <td>0.064477</td>\n",
       "    </tr>\n",
       "  </tbody>\n",
       "</table>\n",
       "</div>"
      ],
      "text/plain": [
       "              feature  feature_importances\n",
       "0           emotion_x             0.011240\n",
       "1            gender_x             0.006979\n",
       "2              race_x             0.016112\n",
       "3   edges_pixel_count             0.146403\n",
       "4        object_count             0.044811\n",
       "5         dom_color_1             0.091061\n",
       "6         dom_color_2             0.074575\n",
       "7          dom_prct_1             0.128057\n",
       "8          dom_prct_2             0.105474\n",
       "9              startX             0.089729\n",
       "10             startY             0.156949\n",
       "11             height             0.064133\n",
       "12              width             0.064477"
      ]
     },
     "execution_count": 20,
     "metadata": {},
     "output_type": "execute_result"
    }
   ],
   "source": [
    "model[1]"
   ]
  },
  {
   "cell_type": "markdown",
   "metadata": {},
   "source": [
    "#### Model score"
   ]
  },
  {
   "cell_type": "code",
   "execution_count": 21,
   "metadata": {},
   "outputs": [
    {
     "data": {
      "text/plain": [
       "0.3580314426159956"
      ]
     },
     "execution_count": 21,
     "metadata": {},
     "output_type": "execute_result"
    }
   ],
   "source": [
    "model[2]"
   ]
  },
  {
   "cell_type": "markdown",
   "metadata": {},
   "source": [
    "#### Mean squared error"
   ]
  },
  {
   "cell_type": "code",
   "execution_count": 22,
   "metadata": {},
   "outputs": [
    {
     "data": {
      "text/plain": [
       "0.004675060314229366"
      ]
     },
     "execution_count": 22,
     "metadata": {},
     "output_type": "execute_result"
    }
   ],
   "source": [
    "model[3]"
   ]
  }
 ],
 "metadata": {
  "kernelspec": {
   "display_name": "Python 3.9.1 64-bit",
   "language": "python",
   "name": "python3"
  },
  "language_info": {
   "codemirror_mode": {
    "name": "ipython",
    "version": 3
   },
   "file_extension": ".py",
   "mimetype": "text/x-python",
   "name": "python",
   "nbconvert_exporter": "python",
   "pygments_lexer": "ipython3",
   "version": "3.9.1"
  },
  "orig_nbformat": 4,
  "vscode": {
   "interpreter": {
    "hash": "81794d4967e6c3204c66dcd87b604927b115b27c00565d3d43f05ba2f3a2cb0d"
   }
  }
 },
 "nbformat": 4,
 "nbformat_minor": 2
}
