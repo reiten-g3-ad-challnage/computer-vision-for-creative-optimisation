{
 "cells": [
  {
   "cell_type": "code",
   "execution_count": 1,
   "metadata": {},
   "outputs": [],
   "source": [
    "import pandas as pd\n",
    "import matplotlib.pyplot as plt\n",
    "import pytesseract\n",
    "import cv2\n",
    "import sys, os\n",
    "\n",
    "sys.path.append(os.path.abspath(os.path.join(\"../..\")))\n",
    "sys.path.append(os.path.abspath(os.path.join(\"../scripts\")))"
   ]
  },
  {
   "cell_type": "code",
   "execution_count": 2,
   "metadata": {},
   "outputs": [],
   "source": [
    "from text_extraction import extract_text\n",
    "\n",
    "extract_text = extract_text()"
   ]
  },
  {
   "cell_type": "code",
   "execution_count": 3,
   "metadata": {},
   "outputs": [],
   "source": [
    "from dotenv import load_dotenv\n",
    "\n",
    "load_dotenv()\n",
    "\n",
    "path_to_dataset = os.getenv('path_to_provided_data')\n",
    "path_to_extracted = os.getenv('path_to_extracted_data')"
   ]
  },
  {
   "cell_type": "code",
   "execution_count": 4,
   "metadata": {},
   "outputs": [
    {
     "name": "stdout",
     "output_type": "stream",
     "text": [
      "<class 'pandas.core.frame.DataFrame'>\n",
      "RangeIndex: 905 entries, 0 to 904\n",
      "Data columns (total 4 columns):\n",
      " #   Column        Non-Null Count  Dtype  \n",
      "---  ------        --------------  -----  \n",
      " 0   game_id       905 non-null    object \n",
      " 1   preview_link  905 non-null    object \n",
      " 2   ER            905 non-null    float64\n",
      " 3   CTR           905 non-null    float64\n",
      "dtypes: float64(2), object(2)\n",
      "memory usage: 28.4+ KB\n"
     ]
    }
   ],
   "source": [
    "# load the performance data\n",
    "\n",
    "data = pd.read_csv(path_to_dataset+'performance_data.csv')\n",
    "data.info()"
   ]
  },
  {
   "cell_type": "code",
   "execution_count": 5,
   "metadata": {},
   "outputs": [],
   "source": [
    "# write a txt file for path to creative assets\n",
    "\n",
    "df = pd.DataFrame(columns=['game_id','start_frame', 'end_frame'])\n",
    "\n",
    "df['game_id'] = data['game_id']\n",
    "df['start_frame'] = data['game_id'].apply(lambda x: path_to_extracted + x + '/start_frame.png' )\n",
    "df['end_frame'] = data['game_id'].apply(lambda x: path_to_extracted + x + '/end_frame.png' )\n",
    "\n",
    "df.to_csv('../data/path_to_creative_assets.csv', index=False)"
   ]
  },
  {
   "cell_type": "markdown",
   "metadata": {},
   "source": [
    "## use pytesseract and opencv to extract text from startframes"
   ]
  },
  {
   "cell_type": "code",
   "execution_count": 6,
   "metadata": {},
   "outputs": [],
   "source": [
    "game_ids, pics = df.loc[:, 'game_id'], df.loc[:, 'start_frame']"
   ]
  },
  {
   "cell_type": "code",
   "execution_count": 7,
   "metadata": {},
   "outputs": [],
   "source": [
    "output_df = pd.DataFrame(columns=['game_id', 'text_start_frame'])\n",
    "\n",
    "output_df['game_id'] = game_ids\n",
    "\n",
    "output_df['text_start_frame'] = extract_text.text_to_df(pics, writeout=True, file_name='start_frame.png')"
   ]
  },
  {
   "cell_type": "code",
   "execution_count": 9,
   "metadata": {},
   "outputs": [
    {
     "name": "stdout",
     "output_type": "stream",
     "text": [
      "<class 'pandas.core.frame.DataFrame'>\n",
      "RangeIndex: 905 entries, 0 to 904\n",
      "Data columns (total 2 columns):\n",
      " #   Column            Non-Null Count  Dtype \n",
      "---  ------            --------------  ----- \n",
      " 0   game_id           905 non-null    object\n",
      " 1   text_start_frame  905 non-null    object\n",
      "dtypes: object(2)\n",
      "memory usage: 14.3+ KB\n"
     ]
    }
   ],
   "source": [
    "output_df.info()"
   ]
  },
  {
   "cell_type": "markdown",
   "metadata": {},
   "source": [
    "## use pytesseract and opencv to extract text from endframes"
   ]
  },
  {
   "cell_type": "code",
   "execution_count": 10,
   "metadata": {},
   "outputs": [],
   "source": [
    "game_ids, pics = df.loc[:, 'game_id'], df.loc[:, 'end_frame']"
   ]
  },
  {
   "cell_type": "code",
   "execution_count": 11,
   "metadata": {},
   "outputs": [],
   "source": [
    "end_df = pd.DataFrame(columns=['game_id', 'text_end_frame'])\n",
    "\n",
    "end_df['game_id'] = game_ids\n",
    "\n",
    "end_df['text_end_frame'] = extract_text.text_to_df(pics, writeout=True, file_name='end_frame.png')"
   ]
  },
  {
   "cell_type": "code",
   "execution_count": 12,
   "metadata": {},
   "outputs": [
    {
     "name": "stdout",
     "output_type": "stream",
     "text": [
      "<class 'pandas.core.frame.DataFrame'>\n",
      "RangeIndex: 905 entries, 0 to 904\n",
      "Data columns (total 2 columns):\n",
      " #   Column          Non-Null Count  Dtype \n",
      "---  ------          --------------  ----- \n",
      " 0   game_id         905 non-null    object\n",
      " 1   text_end_frame  905 non-null    object\n",
      "dtypes: object(2)\n",
      "memory usage: 14.3+ KB\n"
     ]
    }
   ],
   "source": [
    "end_df.info()"
   ]
  },
  {
   "cell_type": "code",
   "execution_count": null,
   "metadata": {},
   "outputs": [],
   "source": []
  }
 ],
 "metadata": {
  "kernelspec": {
   "display_name": "Python 3.8.10 ('env': venv)",
   "language": "python",
   "name": "python3"
  },
  "language_info": {
   "codemirror_mode": {
    "name": "ipython",
    "version": 3
   },
   "file_extension": ".py",
   "mimetype": "text/x-python",
   "name": "python",
   "nbconvert_exporter": "python",
   "pygments_lexer": "ipython3",
   "version": "3.8.10"
  },
  "orig_nbformat": 4,
  "vscode": {
   "interpreter": {
    "hash": "7ae324af64771f8cab5aa195ca3c63740a2668f1a16a5ab53fdf158ca87c7825"
   }
  }
 },
 "nbformat": 4,
 "nbformat_minor": 2
}
