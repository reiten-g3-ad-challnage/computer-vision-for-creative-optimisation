{
 "cells": [
  {
   "cell_type": "code",
   "execution_count": 1,
   "metadata": {},
   "outputs": [],
   "source": [
    "import numpy as np\n",
    "import pandas as pd\n",
    "import os"
   ]
  },
  {
   "cell_type": "code",
   "execution_count": 6,
   "metadata": {},
   "outputs": [],
   "source": [
    "from dotenv import load_dotenv\n",
    "\n",
    "load_dotenv()\n",
    "\n",
    "path_to_dataset = os.getenv('path_to_provided_data')\n",
    "path_to_extracted = os.getenv('path_to_extracted_data')"
   ]
  },
  {
   "cell_type": "code",
   "execution_count": 3,
   "metadata": {},
   "outputs": [
    {
     "name": "stdout",
     "output_type": "stream",
     "text": [
      "<class 'pandas.core.frame.DataFrame'>\n",
      "RangeIndex: 905 entries, 0 to 904\n",
      "Data columns (total 4 columns):\n",
      " #   Column        Non-Null Count  Dtype  \n",
      "---  ------        --------------  -----  \n",
      " 0   game_id       905 non-null    object \n",
      " 1   preview_link  905 non-null    object \n",
      " 2   ER            905 non-null    float64\n",
      " 3   CTR           905 non-null    float64\n",
      "dtypes: float64(2), object(2)\n",
      "memory usage: 28.4+ KB\n"
     ]
    }
   ],
   "source": [
    "# load the performance data\n",
    "\n",
    "data = pd.read_csv(path_to_dataset+'performance_data.csv')\n",
    "data.info()"
   ]
  },
  {
   "cell_type": "code",
   "execution_count": 7,
   "metadata": {},
   "outputs": [],
   "source": [
    "# write a txt file for path to creative assets\n",
    "\n",
    "df = pd.DataFrame(columns=['start_frame', 'end_frame'])\n",
    "\n",
    "df['start_frame'] = data['game_id'].apply(lambda x: path_to_extracted + x + '/start_frame.png' )\n",
    "df['end_frame'] = data['game_id'].apply(lambda x: path_to_extracted + x + '/end_frame.png' )\n",
    "\n",
    "np.savetxt('../data/start_frames.txt', df['start_frame'].values, delimiter=',', fmt='%s')\n",
    "np.savetxt('../data/end_frames.txt', df['end_frame'].values, delimiter=',', fmt='%s')"
   ]
  },
  {
   "cell_type": "code",
   "execution_count": null,
   "metadata": {},
   "outputs": [],
   "source": []
  }
 ],
 "metadata": {
  "kernelspec": {
   "display_name": "Python 3.8.10 ('env': venv)",
   "language": "python",
   "name": "python3"
  },
  "language_info": {
   "codemirror_mode": {
    "name": "ipython",
    "version": 3
   },
   "file_extension": ".py",
   "mimetype": "text/x-python",
   "name": "python",
   "nbconvert_exporter": "python",
   "pygments_lexer": "ipython3",
   "version": "3.8.10"
  },
  "orig_nbformat": 4,
  "vscode": {
   "interpreter": {
    "hash": "7ae324af64771f8cab5aa195ca3c63740a2668f1a16a5ab53fdf158ca87c7825"
   }
  }
 },
 "nbformat": 4,
 "nbformat_minor": 2
}
