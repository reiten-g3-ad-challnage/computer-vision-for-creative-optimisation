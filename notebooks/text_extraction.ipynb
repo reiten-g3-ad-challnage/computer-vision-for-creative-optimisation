{
 "cells": [
  {
   "cell_type": "code",
   "execution_count": null,
   "metadata": {},
   "outputs": [],
   "source": []
  }
 ],
 "metadata": {
  "kernelspec": {
   "display_name": "Python 3.8.10 ('env': venv)",
   "language": "python",
   "name": "python3"
  },
  "language_info": {
   "name": "python",
   "version": "3.8.10"
  },
  "orig_nbformat": 4,
  "vscode": {
   "interpreter": {
    "hash": "7ae324af64771f8cab5aa195ca3c63740a2668f1a16a5ab53fdf158ca87c7825"
   }
  }
 },
 "nbformat": 4,
 "nbformat_minor": 2
}
